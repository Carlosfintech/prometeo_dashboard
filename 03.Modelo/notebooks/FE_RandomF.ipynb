{
 "cells": [
  {
   "cell_type": "markdown",
   "id": "c3030338-f284-4177-8bc9-e91e58556bd7",
   "metadata": {},
   "source": [
    "# Feature engineering Random Forest"
   ]
  },
  {
   "cell_type": "code",
   "execution_count": 11,
   "id": "6349d014-92c5-4030-ba49-3a14d8744889",
   "metadata": {},
   "outputs": [],
   "source": [
    "import pandas as pd\n",
    "import numpy as np\n",
    "from sklearn.preprocessing import LabelEncoder"
   ]
  },
  {
   "cell_type": "code",
   "execution_count": 12,
   "id": "5b597fc6-739a-48a7-be50-4dfb733e7b07",
   "metadata": {},
   "outputs": [],
   "source": [
    "cols_a_eliminar = [\n",
    "    \"Unnamed: 0\", \"user_id\",\n",
    "]\n",
    "\n",
    "fechas = [\n",
    "    \"fecha_primer_producto\", \"fecha_segundo_producto\",\n",
    "    \"mes_mas_compras.x\", \"mes_mayor_monto.x\"\n",
    "]\n",
    "\n",
    "binarias_explicit = ['checking_account', 'savings_account', 'credit_card', 'investment']"
   ]
  },
  {
   "cell_type": "code",
   "execution_count": 13,
   "id": "b454f9dc-52da-4593-b8b2-63140023e9d4",
   "metadata": {},
   "outputs": [],
   "source": [
    "df = pd.read_csv(\"../data/interim/df_features_general.csv\")\n",
    "df.drop(columns=[col for col in cols_a_eliminar if col in df.columns], inplace=True)"
   ]
  },
  {
   "cell_type": "markdown",
   "id": "162d2bb1-b028-4e58-a956-5f11de8414b3",
   "metadata": {},
   "source": [
    "## Transformaciones"
   ]
  },
  {
   "cell_type": "code",
   "execution_count": 14,
   "id": "275c5da2-f12d-4a22-9976-dd992946f5d4",
   "metadata": {},
   "outputs": [],
   "source": [
    "# Convertir fechas\n",
    "for col in fechas:\n",
    "    if col in df.columns:\n",
    "        df[col] = pd.to_datetime(df[col], errors='coerce')\n",
    "\n",
    "# Log1p a total_spend_fav\n",
    "if 'total_spend_fav' in df.columns:\n",
    "    df['total_spend_fav'] = np.log1p(df['total_spend_fav'])\n",
    "\n",
    "# Binarias a bool\n",
    "for col in binarias_explicit:\n",
    "    if col in df.columns:\n",
    "        df[col] = df[col].map({1: True, 0: False}).astype(bool)\n",
    "\n",
    "# Categóricas y label encoder\n",
    "categoricas = [\n",
    "    'income_range', 'risk_profile', 'occupation', 'age_range_sturges',\n",
    "    'primer_producto', 'segundo_producto', 'combinacion_productos',\n",
    "    'categoria_favorita_monto'\n",
    "]\n",
    "for col in categoricas:\n",
    "    if col in df.columns:\n",
    "        df[col] = LabelEncoder().fit_transform(df[col].astype(str))"
   ]
  },
  {
   "cell_type": "markdown",
   "id": "2bf7516f-3b0b-4ccc-b712-48c01b24023f",
   "metadata": {},
   "source": [
    "## Data sets"
   ]
  },
  {
   "cell_type": "code",
   "execution_count": 15,
   "id": "50b9b3c8-ff93-4658-8e4f-e7c4d81ccf51",
   "metadata": {},
   "outputs": [],
   "source": [
    "# Separar features y target\n",
    "y = df['insurance']\n",
    "X = df.drop(columns=['insurance'])\n",
    "\n",
    "X.to_csv(\"../data/processed/X_rf_reduced.csv\", index=False)\n",
    "y.to_csv(\"../data/processed/y_rf_reduced.csv\", index=False)"
   ]
  },
  {
   "cell_type": "code",
   "execution_count": null,
   "id": "76fa41f9-c6d8-45b2-bc33-d42c53dc6c59",
   "metadata": {},
   "outputs": [],
   "source": []
  }
 ],
 "metadata": {
  "kernelspec": {
   "display_name": "Python 3 (ipykernel)",
   "language": "python",
   "name": "python3"
  },
  "language_info": {
   "codemirror_mode": {
    "name": "ipython",
    "version": 3
   },
   "file_extension": ".py",
   "mimetype": "text/x-python",
   "name": "python",
   "nbconvert_exporter": "python",
   "pygments_lexer": "ipython3",
   "version": "3.13.3"
  }
 },
 "nbformat": 4,
 "nbformat_minor": 5
}
