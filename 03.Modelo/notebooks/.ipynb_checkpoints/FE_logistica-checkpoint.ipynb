{
 "cells": [
  {
   "cell_type": "markdown",
   "id": "06999764-b3de-4831-8e49-2df949692182",
   "metadata": {},
   "source": [
    "# Feature engineering regresion logistica"
   ]
  },
  {
   "cell_type": "code",
   "execution_count": 115,
   "id": "4dd93cf7-d50e-486a-be39-8c8c3bdfa733",
   "metadata": {},
   "outputs": [],
   "source": [
    "import pandas as pd\n",
    "import numpy as np\n",
    "from sklearn.preprocessing import StandardScaler\n"
   ]
  },
  {
   "cell_type": "code",
   "execution_count": 116,
   "id": "134ee800-ee60-4a8f-866f-0d0202f62f0b",
   "metadata": {},
   "outputs": [],
   "source": [
    "df = pd.read_csv(\"../data/interim/df_features_general.csv\")"
   ]
  },
  {
   "cell_type": "markdown",
   "id": "3f233976-7699-431d-abd4-77101d338a8b",
   "metadata": {},
   "source": [
    "## Eliminar variables no predictivas"
   ]
  },
  {
   "cell_type": "code",
   "execution_count": 117,
   "id": "7dac76c5-8c1b-4bdb-a0be-8e2ea42e6e84",
   "metadata": {},
   "outputs": [],
   "source": [
    "# Eliminar columnas innecesarias o no predictivas\n",
    "cols_a_eliminar = [\n",
    "    \"Unnamed: 0\", \"user_id\", \"total_spend\", \"monto_promedio_mensual.x\", \"monto_promedio_transaccion\",\n",
    "    \"hhi\", \"share_fav\", \"total_transacciones\"\n",
    "]\n",
    "df.drop(columns=[col for col in cols_a_eliminar if col in df.columns], inplace=True)"
   ]
  },
  {
   "cell_type": "code",
   "execution_count": 118,
   "id": "eae36722-9817-4e5f-b2a7-170094d2b227",
   "metadata": {},
   "outputs": [],
   "source": [
    "cols_a_eliminar = [\n",
    "    \"Unnamed: 0\", \"user_id\", \"total_spend\", \"monto_promedio_mensual.x\", \"monto_promedio_transaccion\",\n",
    "    \"hhi\", \"share_fav\", \"total_transacciones\"\n",
    "]\n",
    "df.drop(columns=[col for col in cols_a_eliminar if col in df.columns], inplace=True)"
   ]
  },
  {
   "cell_type": "code",
   "execution_count": 119,
   "id": "0bad25c3-3a3d-4ac5-a6ff-c12386828adf",
   "metadata": {},
   "outputs": [],
   "source": [
    "# >>> MODIFICACIÓN: Convertir columnas de fecha a numérico para regresión logística\n",
    "# Ejemplo: convertir 'fecha_primer_producto' y 'fecha_segundo_producto'\n",
    "fechas = [\"fecha_primer_producto\", \"fecha_segundo_producto\",\"mes_mas_compras.x\", \"mes_mayor_monto.x\"]\n",
    "for col in fechas:\n",
    "    if col in df.columns:\n",
    "        # Convertir a datetime\n",
    "        df[col] = pd.to_datetime(df[col], errors='coerce')\n",
    "        # Extraer el timestamp usando astype (para evitar el warning)\n",
    "        df[col + \"_ts\"] = df[col].astype('int64')\n",
    "        # Eliminar la columna original si no es necesaria\n",
    "        df.drop(col, axis=1, inplace=True)"
   ]
  },
  {
   "cell_type": "markdown",
   "id": "2dfd8716-9ee3-4b77-b6e4-1b3b3fdef8ac",
   "metadata": {},
   "source": [
    "## Transformaciones númericas, logaritmicas y normalización"
   ]
  },
  {
   "cell_type": "code",
   "execution_count": 120,
   "id": "445964b0-0015-4312-b5a1-fadf620e1845",
   "metadata": {},
   "outputs": [],
   "source": [
    "# Aplicar log1p a variables con outliers positivos\n",
    "if 'total_spend_fav' in df.columns:\n",
    "    df['total_spend_fav'] = np.log1p(df['total_spend_fav'])\n",
    "\n",
    "if 'variacion_mensual_promedio_pct.x' in df.columns:\n",
    "    df['variacion_mensual_promedio_pct.x'] = np.log1p(df['variacion_mensual_promedio_pct.x'])\n",
    "\n",
    "# Winsorización de variación mensual promedio\n",
    "if 'variacion_mensual_promedio.x' in df.columns:\n",
    "    p01 = df['variacion_mensual_promedio.x'].quantile(0.01)\n",
    "    p99 = df['variacion_mensual_promedio.x'].quantile(0.99)\n",
    "    df['variacion_mensual_promedio.x'] = df['variacion_mensual_promedio.x'].clip(p01, p99)\n",
    "\n",
    "# Estandarizar recencia para escala\n",
    "if 'recencia_transaccion' in df.columns:\n",
    "    df['recencia_transaccion'] = StandardScaler().fit_transform(df[['recencia_transaccion']])\n",
    "\n",
    "# Asegurar que estas columnas binarias estén en formato booleano\n",
    "binarias_explicit = ['checking_account', 'savings_account', 'credit_card', 'investment']\n",
    "for col in binarias_explicit:\n",
    "    if col in df.columns:\n",
    "        df[col] = df[col].astype(bool)\n",
    "\n",
    "# Escalar numéricas continuas (sin tocar las binarias)\n",
    "numericas_continuas = [\n",
    "    'age', 'dias_entre_productos', 'antiguedad_cliente', 'numero_productos',\n",
    "    'entertainment_count', 'food_count', 'health_count', 'shopping_count',\n",
    "    'supermarket_count', 'transport_count', 'travel_count', 'total_spend_fav',\n",
    "    'transacciones_promedio_mensual.x', 'variacion_mensual_promedio.x',\n",
    "    'variacion_mensual_promedio_pct.x', 'n_meses_activos', 'recencia_transaccion'\n",
    "]\n",
    "numericas_continuas = [col for col in numericas_continuas if col in df.columns and col not in binarias_explicit]\n",
    "df[numericas_continuas] = StandardScaler().fit_transform(df[numericas_continuas])"
   ]
  },
  {
   "cell_type": "markdown",
   "id": "dd21ffc7-6ddc-416f-b331-3118bcd0c527",
   "metadata": {},
   "source": [
    "## Transformacion One hot encoding"
   ]
  },
  {
   "cell_type": "code",
   "execution_count": 121,
   "id": "567c6d9f-73bf-47f3-af75-721a79f26e73",
   "metadata": {},
   "outputs": [],
   "source": [
    "categoricas = [\n",
    "    'income_range', 'risk_profile', 'occupation', 'age_range_sturges',\n",
    "    'primer_producto', 'segundo_producto', 'combinacion_productos',\n",
    "    'categoria_favorita_monto'\n",
    "]\n",
    "categoricas = [col for col in categoricas if col in df.columns]\n",
    "df = pd.get_dummies(df, columns=categoricas, drop_first=True)"
   ]
  },
  {
   "cell_type": "markdown",
   "id": "d1093e70-c132-44e5-a6f8-d8946bd6cb63",
   "metadata": {},
   "source": [
    "## Datasets"
   ]
  },
  {
   "cell_type": "code",
   "execution_count": 122,
   "id": "000f9dfa-fd23-4bb2-908c-c7998a8a4982",
   "metadata": {},
   "outputs": [],
   "source": [
    "# Separar variables predictoras y objetivo\n",
    "y = df['insurance']\n",
    "X = df.drop(columns=['insurance'])\n",
    "\n",
    "# Guardar\n",
    "X.to_csv(\"../data/processed/X_logistic_reduced.csv\", index=False)\n",
    "y.to_csv(\"../data/processed/y_logistic_reduced.csv\", index=False)"
   ]
  },
  {
   "cell_type": "code",
   "execution_count": null,
   "id": "aeb3d86c-f140-4df0-a036-de6040ee6d6f",
   "metadata": {},
   "outputs": [],
   "source": []
  },
  {
   "cell_type": "code",
   "execution_count": null,
   "id": "f0165826-8b17-451f-9263-67303258d420",
   "metadata": {},
   "outputs": [],
   "source": []
  }
 ],
 "metadata": {
  "kernelspec": {
   "display_name": "Python 3 (ipykernel)",
   "language": "python",
   "name": "python3"
  },
  "language_info": {
   "codemirror_mode": {
    "name": "ipython",
    "version": 3
   },
   "file_extension": ".py",
   "mimetype": "text/x-python",
   "name": "python",
   "nbconvert_exporter": "python",
   "pygments_lexer": "ipython3",
   "version": "3.13.3"
  }
 },
 "nbformat": 4,
 "nbformat_minor": 5
}
