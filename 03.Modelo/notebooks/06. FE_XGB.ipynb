{
 "cells": [
  {
   "cell_type": "markdown",
   "id": "bf03ef71-8b5a-4fe8-abd3-74e9e2fabe5d",
   "metadata": {},
   "source": [
    "# Feature engineering XGBoost"
   ]
  },
  {
   "cell_type": "code",
   "execution_count": 8,
   "id": "30a68fd9-0bd9-4940-8caf-8d3c0f1a0ac9",
   "metadata": {},
   "outputs": [],
   "source": [
    "import pandas as pd\n",
    "import numpy as np\n",
    "from sklearn.preprocessing import LabelEncoder, StandardScaler"
   ]
  },
  {
   "cell_type": "code",
   "execution_count": 9,
   "id": "b2cc05ab-534e-4fe9-b0e8-0caa240b6fec",
   "metadata": {},
   "outputs": [],
   "source": [
    "cols_a_eliminar = [\n",
    "    \"Unnamed: 0\", \"user_id\",\n",
    "]\n",
    "\n",
    "fechas = [\n",
    "    \"fecha_primer_producto\", \"fecha_segundo_producto\",\n",
    "    \"mes_mas_compras.x\", \"mes_mayor_monto.x\"\n",
    "]\n",
    "\n",
    "binarias_explicit = ['checking_account', 'savings_account', 'credit_card', 'investment']"
   ]
  },
  {
   "cell_type": "code",
   "execution_count": 10,
   "id": "8d0f1b5e-d578-40e9-9c26-a1b2585aded3",
   "metadata": {},
   "outputs": [],
   "source": [
    "df = pd.read_csv(\"../data/interim/df_features_general.csv\")\n",
    "df.drop(columns=[col for col in cols_a_eliminar if col in df.columns], inplace=True)"
   ]
  },
  {
   "cell_type": "code",
   "execution_count": 11,
   "id": "2f6a5e9d-5141-4ee2-ac58-3a82d41a0716",
   "metadata": {},
   "outputs": [],
   "source": [
    "# Convertir fechas\n",
    "for col in fechas:\n",
    "    if col in df.columns:\n",
    "        df[col] = pd.to_datetime(df[col], errors='coerce')\n",
    "\n",
    "# Convertir fechas y extraer timestamp  por requerimiento de sklearn\n",
    "for col in fechas:\n",
    "    if col in df.columns:\n",
    "        # Convertir la columna a datetime\n",
    "        df[col] = pd.to_datetime(df[col], errors='coerce')\n",
    "        # >>> MODIFICACIÓN: Convertir fecha a formato numérico (timestamp en nanosegundos) usando astype\n",
    "        df[col + \"_ts\"] = df[col].astype('int64')\n",
    "        # Eliminar la columna original si no es necesaria\n",
    "        df.drop(col, axis=1, inplace=True)"
   ]
  },
  {
   "cell_type": "markdown",
   "id": "878d1949-6bb4-40e3-9361-8f2737576fba",
   "metadata": {},
   "source": [
    "## Transfomaciones númericas"
   ]
  },
  {
   "cell_type": "code",
   "execution_count": 12,
   "id": "64b63fc0-e233-4ed1-a5c6-5f5c2b1b970f",
   "metadata": {},
   "outputs": [],
   "source": [
    "# Aplicar log1p para reducir asimetría de valores altos\n",
    "if 'total_spend_fav' in df.columns:\n",
    "    df['total_spend_fav'] = np.log1p(df['total_spend_fav'])\n",
    "\n",
    "# Aplicar log1p para valores extremos en proporciones\n",
    "if 'variacion_mensual_promedio_pct.x' in df.columns:\n",
    "    df['variacion_mensual_promedio_pct.x'] = np.log1p(df['variacion_mensual_promedio_pct.x'])\n",
    "\n",
    "# Winsorización de variable con outliers importantes\n",
    "if 'variacion_mensual_promedio.x' in df.columns:\n",
    "    p01 = df['variacion_mensual_promedio.x'].quantile(0.01)\n",
    "    p99 = df['variacion_mensual_promedio.x'].quantile(0.99)\n",
    "    df['variacion_mensual_promedio.x'] = df['variacion_mensual_promedio.x'].clip(p01, p99)\n",
    "\n",
    "# Escalar recencia para estabilidad del gradiente\n",
    "if 'recencia_transaccion' in df.columns:\n",
    "    df['recencia_transaccion'] = StandardScaler().fit_transform(df[['recencia_transaccion']])\n",
    "\n",
    "# Escalar otras variables numéricas continuas\n",
    "escalar_xgb = [\n",
    "    'age', 'dias_entre_productos', 'antiguedad_cliente', 'numero_productos',\n",
    "    'entertainment_count', 'food_count', 'health_count', 'shopping_count',\n",
    "    'supermarket_count', 'transport_count', 'travel_count'\n",
    "]\n",
    "escalar_xgb = [col for col in escalar_xgb if col in df.columns]\n",
    "df[escalar_xgb] = StandardScaler().fit_transform(df[escalar_xgb])"
   ]
  },
  {
   "cell_type": "markdown",
   "id": "fff461b2-a414-4924-81ce-037b9669798c",
   "metadata": {},
   "source": [
    "## Tranformación categoricas label encoder"
   ]
  },
  {
   "cell_type": "code",
   "execution_count": 13,
   "id": "641006b8-9935-4061-9a02-0e0d28c5ffe4",
   "metadata": {},
   "outputs": [],
   "source": [
    "# Convertir variables binarias explícitas a tipo booleano\n",
    "for col in binarias_explicit:\n",
    "    if col in df.columns:\n",
    "        df[col] = df[col].map({1: True, 0: False}).astype(bool)\n",
    "\n",
    "# Codificación con LabelEncoder para categóricas (no binarias)\n",
    "categoricas = [\n",
    "    'income_range', 'risk_profile', 'occupation', 'age_range_sturges',\n",
    "    'primer_producto', 'segundo_producto', 'combinacion_productos',\n",
    "    'categoria_favorita_monto'\n",
    "]\n",
    "for col in categoricas:\n",
    "    if col in df.columns:\n",
    "        df[col] = LabelEncoder().fit_transform(df[col].astype(str))"
   ]
  },
  {
   "cell_type": "code",
   "execution_count": 15,
   "id": "3f816516-64bf-4fb6-98de-735a334239d2",
   "metadata": {},
   "outputs": [
    {
     "name": "stdout",
     "output_type": "stream",
     "text": [
      "<class 'pandas.core.frame.DataFrame'>\n",
      "RangeIndex: 100 entries, 0 to 99\n",
      "Data columns (total 34 columns):\n",
      " #   Column                            Non-Null Count  Dtype  \n",
      "---  ------                            --------------  -----  \n",
      " 0   age                               100 non-null    float64\n",
      " 1   income_range                      100 non-null    int64  \n",
      " 2   risk_profile                      100 non-null    int64  \n",
      " 3   occupation                        100 non-null    int64  \n",
      " 4   age_range_sturges                 100 non-null    int64  \n",
      " 5   primer_producto                   100 non-null    int64  \n",
      " 6   segundo_producto                  100 non-null    int64  \n",
      " 7   dias_entre_productos              100 non-null    float64\n",
      " 8   antiguedad_cliente                100 non-null    float64\n",
      " 9   checking_account                  100 non-null    bool   \n",
      " 10  savings_account                   100 non-null    bool   \n",
      " 11  credit_card                       100 non-null    bool   \n",
      " 12  insurance                         100 non-null    int64  \n",
      " 13  investment                        100 non-null    bool   \n",
      " 14  numero_productos                  100 non-null    float64\n",
      " 15  combinacion_productos             100 non-null    int64  \n",
      " 16  entertainment_count               100 non-null    float64\n",
      " 17  food_count                        100 non-null    float64\n",
      " 18  health_count                      100 non-null    float64\n",
      " 19  shopping_count                    100 non-null    float64\n",
      " 20  supermarket_count                 100 non-null    float64\n",
      " 21  transport_count                   100 non-null    float64\n",
      " 22  travel_count                      100 non-null    float64\n",
      " 23  transacciones_promedio_mensual.x  100 non-null    float64\n",
      " 24  variacion_mensual_promedio.x      100 non-null    float64\n",
      " 25  variacion_mensual_promedio_pct.x  100 non-null    float64\n",
      " 26  n_meses_activos                   100 non-null    int64  \n",
      " 27  recencia_transaccion              100 non-null    float64\n",
      " 28  categoria_favorita_monto          100 non-null    int64  \n",
      " 29  total_spend_fav                   100 non-null    float64\n",
      " 30  fecha_primer_producto_ts          100 non-null    int64  \n",
      " 31  fecha_segundo_producto_ts         100 non-null    int64  \n",
      " 32  mes_mas_compras.x_ts              100 non-null    int64  \n",
      " 33  mes_mayor_monto.x_ts              100 non-null    int64  \n",
      "dtypes: bool(4), float64(16), int64(14)\n",
      "memory usage: 24.0 KB\n",
      "None\n"
     ]
    }
   ],
   "source": [
    "print(df.info(memory_usage=\"deep\"))"
   ]
  },
  {
   "cell_type": "markdown",
   "id": "18b33838-245d-4779-8470-b96bca13339c",
   "metadata": {},
   "source": [
    "## Dataset"
   ]
  },
  {
   "cell_type": "code",
   "execution_count": 14,
   "id": "45181588-e15a-4288-aa69-c4d75757c122",
   "metadata": {},
   "outputs": [],
   "source": [
    "y = df['insurance']\n",
    "X = df.drop(columns=['insurance'])\n",
    "\n",
    "# Guardar datasets preparados para modelado\n",
    "X.to_csv(\"../data/processed/X_xgb_reduced.csv\", index=False)\n",
    "y.to_csv(\"../data/processed/y_xgb_reduced.csv\", index=False)"
   ]
  },
  {
   "cell_type": "code",
   "execution_count": null,
   "id": "fa8f7d85-57a1-4942-adf6-eb65e121290a",
   "metadata": {},
   "outputs": [],
   "source": []
  },
  {
   "cell_type": "code",
   "execution_count": null,
   "id": "a4e26a5f-d7c0-4ae9-9c23-7ccda918d131",
   "metadata": {},
   "outputs": [],
   "source": []
  }
 ],
 "metadata": {
  "kernelspec": {
   "display_name": "Python 3 (ipykernel)",
   "language": "python",
   "name": "python3"
  },
  "language_info": {
   "codemirror_mode": {
    "name": "ipython",
    "version": 3
   },
   "file_extension": ".py",
   "mimetype": "text/x-python",
   "name": "python",
   "nbconvert_exporter": "python",
   "pygments_lexer": "ipython3",
   "version": "3.13.3"
  }
 },
 "nbformat": 4,
 "nbformat_minor": 5
}
