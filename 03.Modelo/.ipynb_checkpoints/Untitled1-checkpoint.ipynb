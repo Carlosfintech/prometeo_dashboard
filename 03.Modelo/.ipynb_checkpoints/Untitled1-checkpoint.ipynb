{
 "cells": [
  {
   "cell_type": "markdown",
   "id": "fb6b7af7-2950-4647-b37c-48bfc5acb59b",
   "metadata": {},
   "source": [
    "# EDA"
   ]
  },
  {
   "cell_type": "markdown",
   "id": "ed60568b-997f-4e16-8146-34fdb6d37a1a",
   "metadata": {},
   "source": [
    "## Establecer el directorio de trabajo  y librerias"
   ]
  },
  {
   "cell_type": "code",
   "execution_count": 1,
   "id": "2549e899-a945-4c1d-a6bf-d59c5e53bf85",
   "metadata": {},
   "outputs": [],
   "source": [
    "setwd(\"/Users/carloslandaverdealquicirez/Documents/Prometeo_reto/Prometeo_project\")\n"
   ]
  },
  {
   "cell_type": "code",
   "execution_count": 2,
   "id": "7c53c58e-2c27-4384-b025-939a8e002427",
   "metadata": {
    "scrolled": true
   },
   "outputs": [
    {
     "name": "stderr",
     "output_type": "stream",
     "text": [
      "── \u001b[1mAttaching core tidyverse packages\u001b[22m ─────────────────────────────────── tidyverse 2.0.0 ──\n",
      "\u001b[32m✔\u001b[39m \u001b[34mdplyr    \u001b[39m 1.1.4     \u001b[32m✔\u001b[39m \u001b[34mreadr    \u001b[39m 2.1.5\n",
      "\u001b[32m✔\u001b[39m \u001b[34mforcats  \u001b[39m 1.0.0     \u001b[32m✔\u001b[39m \u001b[34mstringr  \u001b[39m 1.5.1\n",
      "\u001b[32m✔\u001b[39m \u001b[34mggplot2  \u001b[39m 3.5.1     \u001b[32m✔\u001b[39m \u001b[34mtibble   \u001b[39m 3.2.1\n",
      "\u001b[32m✔\u001b[39m \u001b[34mlubridate\u001b[39m 1.9.3     \u001b[32m✔\u001b[39m \u001b[34mtidyr    \u001b[39m 1.3.1\n",
      "\u001b[32m✔\u001b[39m \u001b[34mpurrr    \u001b[39m 1.0.2     \n",
      "── \u001b[1mConflicts\u001b[22m ───────────────────────────────────────────────────── tidyverse_conflicts() ──\n",
      "\u001b[31m✖\u001b[39m \u001b[34mdplyr\u001b[39m::\u001b[32mfilter()\u001b[39m masks \u001b[34mstats\u001b[39m::filter()\n",
      "\u001b[31m✖\u001b[39m \u001b[34mdplyr\u001b[39m::\u001b[32mlag()\u001b[39m    masks \u001b[34mstats\u001b[39m::lag()\n",
      "\u001b[36mℹ\u001b[39m Use the conflicted package (\u001b[3m\u001b[34m<http://conflicted.r-lib.org/>\u001b[39m\u001b[23m) to force all conflicts to become errors\n"
     ]
    }
   ],
   "source": [
    "library(tidyverse)\n",
    "library(lubridate)"
   ]
  },
  {
   "cell_type": "markdown",
   "id": "f9eaaca4-dace-45da-83c3-84f82696cea1",
   "metadata": {},
   "source": [
    "## Importar datasets"
   ]
  },
  {
   "cell_type": "code",
   "execution_count": 3,
   "id": "0f5730f0-7087-41d1-bdf0-7722c87065c7",
   "metadata": {
    "scrolled": true
   },
   "outputs": [
    {
     "name": "stderr",
     "output_type": "stream",
     "text": [
      "\u001b[1mRows: \u001b[22m\u001b[34m1000\u001b[39m \u001b[1mColumns: \u001b[22m\u001b[34m6\u001b[39m\n",
      "\u001b[36m──\u001b[39m \u001b[1mColumn specification\u001b[22m \u001b[36m───────────────────────────────────────────────────────────────────\u001b[39m\n",
      "\u001b[1mDelimiter:\u001b[22m \",\"\n",
      "\u001b[31mchr\u001b[39m  (4): transaction_id, user_id, merchant_category, description\n",
      "\u001b[32mdbl\u001b[39m  (1): amount\n",
      "\u001b[34mdate\u001b[39m (1): date\n",
      "\n",
      "\u001b[36mℹ\u001b[39m Use `spec()` to retrieve the full column specification for this data.\n",
      "\u001b[36mℹ\u001b[39m Specify the column types or set `show_col_types = FALSE` to quiet this message.\n",
      "\u001b[1mRows: \u001b[22m\u001b[34m100\u001b[39m \u001b[1mColumns: \u001b[22m\u001b[34m5\u001b[39m\n",
      "\u001b[36m──\u001b[39m \u001b[1mColumn specification\u001b[22m \u001b[36m───────────────────────────────────────────────────────────────────\u001b[39m\n",
      "\u001b[1mDelimiter:\u001b[22m \",\"\n",
      "\u001b[31mchr\u001b[39m (4): user_id, income_range, risk_profile, occupation\n",
      "\u001b[32mdbl\u001b[39m (1): age\n",
      "\n",
      "\u001b[36mℹ\u001b[39m Use `spec()` to retrieve the full column specification for this data.\n",
      "\u001b[36mℹ\u001b[39m Specify the column types or set `show_col_types = FALSE` to quiet this message.\n",
      "\u001b[1mRows: \u001b[22m\u001b[34m155\u001b[39m \u001b[1mColumns: \u001b[22m\u001b[34m3\u001b[39m\n",
      "\u001b[36m──\u001b[39m \u001b[1mColumn specification\u001b[22m \u001b[36m───────────────────────────────────────────────────────────────────\u001b[39m\n",
      "\u001b[1mDelimiter:\u001b[22m \",\"\n",
      "\u001b[31mchr\u001b[39m  (2): user_id, product_type\n",
      "\u001b[34mdate\u001b[39m (1): contract_date\n",
      "\n",
      "\u001b[36mℹ\u001b[39m Use `spec()` to retrieve the full column specification for this data.\n",
      "\u001b[36mℹ\u001b[39m Specify the column types or set `show_col_types = FALSE` to quiet this message.\n"
     ]
    }
   ],
   "source": [
    "transactions <- read_csv(\"03.Modelo/data/transactions.csv\")\n",
    "demographics <- read_csv(\"03.Modelo/data/demographics.csv\")\n",
    "products <- read_csv(\"03.Modelo/data/products.csv\")"
   ]
  },
  {
   "cell_type": "markdown",
   "id": "951be5e9-365b-4f13-ad06-34bc7b2d89f5",
   "metadata": {},
   "source": [
    "## Limpieza de los datos"
   ]
  },
  {
   "cell_type": "code",
   "execution_count": 5,
   "id": "e0286d0c-d46d-47aa-a5a5-5e8732aaf627",
   "metadata": {},
   "outputs": [
    {
     "name": "stdout",
     "output_type": "stream",
     "text": [
      "Valores nulos en 'demographics':\n",
      "     user_id          age income_range risk_profile   occupation \n",
      "           0            0            0            0            0 \n",
      "\n",
      "Valores únicos en income_range:\n",
      "[1] \"30k-50k\"   \"100k-150k\" \"50k-100k\"  \"150k+\"    \n",
      "\n",
      "Valores únicos en risk_profile:\n",
      "[1] \"conservative\" \"moderate\"     \"aggressive\"  \n",
      "\n",
      "Estructura de demographics:\n",
      "spc_tbl_ [100 × 5] (S3: spec_tbl_df/tbl_df/tbl/data.frame)\n",
      " $ user_id     : chr [1:100] \"user_001\" \"user_002\" \"user_003\" \"user_004\" ...\n",
      " $ age         : num [1:100] 19 54 23 63 30 62 21 38 40 68 ...\n",
      " $ income_range: chr [1:100] \"30k-50k\" \"100k-150k\" \"100k-150k\" \"30k-50k\" ...\n",
      " $ risk_profile: chr [1:100] \"conservative\" \"moderate\" \"moderate\" \"conservative\" ...\n",
      " $ occupation  : chr [1:100] \"Sericultor\" \"Agente de aduanas\" \"Conductor de autobús\" \"Oficial de préstamos y créditos\" ...\n",
      " - attr(*, \"spec\")=\n",
      "  .. cols(\n",
      "  ..   user_id = \u001b[31mcol_character()\u001b[39m,\n",
      "  ..   age = \u001b[32mcol_double()\u001b[39m,\n",
      "  ..   income_range = \u001b[31mcol_character()\u001b[39m,\n",
      "  ..   risk_profile = \u001b[31mcol_character()\u001b[39m,\n",
      "  ..   occupation = \u001b[31mcol_character()\u001b[39m\n",
      "  .. )\n",
      " - attr(*, \"problems\")=<externalptr> \n",
      "\n",
      "Valores nulos en 'products':\n",
      "      user_id  product_type contract_date \n",
      "            0             0             0 \n",
      "\n",
      "Valores únicos en product_type:\n",
      "[1] \"checking_account\"   \"investment_account\" \"savings_account\"   \n",
      "[4] \"insurance\"          \"credit_card\"       \n",
      "\n",
      "Estructura de products:\n",
      "spc_tbl_ [155 × 3] (S3: spec_tbl_df/tbl_df/tbl/data.frame)\n",
      " $ user_id      : chr [1:155] \"user_001\" \"user_002\" \"user_002\" \"user_003\" ...\n",
      " $ product_type : chr [1:155] \"checking_account\" \"checking_account\" \"investment_account\" \"savings_account\" ...\n",
      " $ contract_date: Date[1:155], format: \"2021-06-01\" \"2021-09-11\" ...\n",
      " - attr(*, \"spec\")=\n",
      "  .. cols(\n",
      "  ..   user_id = \u001b[31mcol_character()\u001b[39m,\n",
      "  ..   product_type = \u001b[31mcol_character()\u001b[39m,\n",
      "  ..   contract_date = \u001b[34mcol_date(format = \"\")\u001b[39m\n",
      "  .. )\n",
      " - attr(*, \"problems\")=<externalptr> \n",
      "\n",
      "Valores nulos en 'transactions':\n",
      "   transaction_id           user_id              date            amount \n",
      "                0                 0                 0                 0 \n",
      "merchant_category       description \n",
      "                0                 0 \n",
      "\n",
      "Valores únicos en merchant_category:\n",
      "[1] \"entertainment\" \"shopping\"      \"transport\"     \"food\"         \n",
      "[5] \"travel\"        \"supermarket\"   \"health\"       \n",
      "\n",
      "Estructura de transactions:\n",
      "spc_tbl_ [1,000 × 6] (S3: spec_tbl_df/tbl_df/tbl/data.frame)\n",
      " $ transaction_id   : chr [1:1000] \"3eeb9aea-ff03-4417-880d-7f5bc6978837\" \"12c27755-c835-49d4-b024-72fa2a8fe94a\" \"16727a91-4fbb-4e9d-a5ea-ba22dfb9974b\" \"fbc8c68e-a8f2-4a1e-980e-516ca0ea9587\" ...\n",
      " $ user_id          : chr [1:1000] \"user_073\" \"user_082\" \"user_070\" \"user_041\" ...\n",
      " $ date             : Date[1:1000], format: \"2023-07-08\" \"2023-03-18\" ...\n",
      " $ amount           : num [1:1000] 121.99 111.14 59.3 115.41 6.06 ...\n",
      " $ merchant_category: chr [1:1000] \"entertainment\" \"shopping\" \"transport\" \"food\" ...\n",
      " $ description      : chr [1:1000] \"sintetiza entregables de misión crítica\" \"optimiza métricas llave en mano\" \"Uber ride\" \"transiciona redes punto-com\" ...\n",
      " - attr(*, \"spec\")=\n",
      "  .. cols(\n",
      "  ..   transaction_id = \u001b[31mcol_character()\u001b[39m,\n",
      "  ..   user_id = \u001b[31mcol_character()\u001b[39m,\n",
      "  ..   date = \u001b[34mcol_date(format = \"\")\u001b[39m,\n",
      "  ..   amount = \u001b[32mcol_double()\u001b[39m,\n",
      "  ..   merchant_category = \u001b[31mcol_character()\u001b[39m,\n",
      "  ..   description = \u001b[31mcol_character()\u001b[39m\n",
      "  .. )\n",
      " - attr(*, \"problems\")=<externalptr> \n"
     ]
    }
   ],
   "source": [
    "## 📄 Demographics\n",
    "\n",
    "# Verificar si existen valores nulos\n",
    "cat(\"Valores nulos en 'demographics':\\n\")\n",
    "print(colSums(is.na(demographics)))\n",
    "\n",
    "# Verificar categorías únicas en income_range y risk_profile\n",
    "cat(\"\\nValores únicos en income_range:\\n\")\n",
    "print(unique(demographics$income_range))\n",
    "\n",
    "cat(\"\\nValores únicos en risk_profile:\\n\")\n",
    "print(unique(demographics$risk_profile))\n",
    "\n",
    "# Revisar estructura de datos\n",
    "cat(\"\\nEstructura de demographics:\\n\")\n",
    "str(demographics)\n",
    "\n",
    "## 📄 Products\n",
    "\n",
    "# Verificar si existen valores nulos\n",
    "cat(\"\\nValores nulos en 'products':\\n\")\n",
    "print(colSums(is.na(products)))\n",
    "\n",
    "# Verificar categorías únicas en product_type\n",
    "cat(\"\\nValores únicos en product_type:\\n\")\n",
    "print(unique(products$product_type))\n",
    "\n",
    "# Revisar estructura de datos\n",
    "cat(\"\\nEstructura de products:\\n\")\n",
    "str(products)\n",
    "\n",
    "## 📄 Transactions\n",
    "\n",
    "# Verificar si existen valores nulos\n",
    "cat(\"\\nValores nulos en 'transactions':\\n\")\n",
    "print(colSums(is.na(transactions)))\n",
    "\n",
    "# Verificar categorías únicas en merchant_category\n",
    "cat(\"\\nValores únicos en merchant_category:\\n\")\n",
    "print(unique(transactions$merchant_category))\n",
    "\n",
    "# Revisar estructura de datos\n",
    "cat(\"\\nEstructura de transactions:\\n\")\n",
    "str(transactions)"
   ]
  },
  {
   "cell_type": "markdown",
   "id": "c72a108d-06af-4a44-9d3c-d97d67a36fdf",
   "metadata": {},
   "source": [
    "### Resultados de verificación de Limpieza y Tipos de Datos\n",
    "\n",
    "Se realizó una revisión detallada de los tres datasets (`demographics`, `products` y `transactions`) para asegurar su calidad antes del análisis exploratorio. A continuación se resumen los hallazgos:\n",
    "\n",
    "---\n",
    "\n",
    "### 📄 1. `demographics`\n",
    "\n",
    "- **Valores nulos:** Ninguno  \n",
    "- **Observaciones:** 100  \n",
    "- **Variables:**\n",
    "\n",
    "| Variable       | Tipo de dato | Observaciones                             |\n",
    "|----------------|--------------|-------------------------------------------|\n",
    "| user_id        | character    | ID único por usuario                       |\n",
    "| age            | numeric      | Rango de edad: 18 a 70                     |\n",
    "| income_range   | character    | Categorías limpias: \"30k-50k\", \"150k+\", etc. |\n",
    "| risk_profile   | character    | Categorías limpias: \"conservative\", etc.   |\n",
    "| occupation     | character    | Texto libre sin errores detectados         |\n",
    "\n",
    "---\n",
    "\n",
    "### 📄 2. `products`\n",
    "\n",
    "- **Valores nulos:** Ninguno  \n",
    "- **Observaciones:** 155  \n",
    "- **Variables:**\n",
    "\n",
    "| Variable       | Tipo de dato | Observaciones                             |\n",
    "|----------------|--------------|-------------------------------------------|\n",
    "| user_id        | character    | Usuarios pueden tener múltiples productos |\n",
    "| product_type   | character    | 5 categorías limpias                      |\n",
    "| contract_date  | Date         | Fechas consistentes                       |\n",
    "\n",
    "---\n",
    "\n",
    "### 📄 3. `transactions`\n",
    "\n",
    "- **Valores nulos:** Ninguno  \n",
    "- **Observaciones:** 1,000  \n",
    "- **Variables:**\n",
    "\n",
    "| Variable           | Tipo de dato | Observaciones                               |\n",
    "|--------------------|--------------|---------------------------------------------|\n",
    "| transaction_id     | character    | UUID únicos                                 |\n",
    "| user_id            | character    | 100 usuarios distintos                      |\n",
    "| date               | Date         | Fechas válidas                              |\n",
    "| amount             | numeric      | Rango entre ~5.17 y ~1989.25                |\n",
    "| merchant_category  | character    | 7 categorías limpias                        |\n",
    "| description        | character    | Texto libre sin errores visibles            |\n",
    "\n",
    "---\n",
    "\n",
    "**Conclusión:**  \n",
    "Los datos están completamente limpios, sin valores nulos ni errores de tipografía en variables categóricas. Esto permite avanzar con seguridad hacia la integración de datos y el análisis exploratorio."
   ]
  },
  {
   "cell_type": "code",
   "execution_count": null,
   "id": "4f048bd4-bd94-469b-b157-246181e170a7",
   "metadata": {},
   "outputs": [],
   "source": []
  }
 ],
 "metadata": {
  "kernelspec": {
   "display_name": "R",
   "language": "R",
   "name": "ir"
  },
  "language_info": {
   "codemirror_mode": "r",
   "file_extension": ".r",
   "mimetype": "text/x-r-source",
   "name": "R",
   "pygments_lexer": "r",
   "version": "4.4.1"
  }
 },
 "nbformat": 4,
 "nbformat_minor": 5
}
