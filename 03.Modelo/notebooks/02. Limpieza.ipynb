{
 "cells": [
  {
   "cell_type": "markdown",
   "id": "83661e42-825e-48d1-ba5f-fb077532120d",
   "metadata": {},
   "source": [
    "# Limpieza"
   ]
  },
  {
   "cell_type": "code",
   "execution_count": 1,
   "id": "5f6438ff-cafc-42ef-81ac-b342e2d30b85",
   "metadata": {
    "scrolled": true
   },
   "outputs": [],
   "source": [
    "import pandas as pd\n",
    "import seaborn as sns\n",
    "import matplotlib.pyplot as plt"
   ]
  },
  {
   "cell_type": "code",
   "execution_count": 11,
   "id": "ee9ca7a9-767f-4879-ad1e-1f36c7a6af00",
   "metadata": {},
   "outputs": [],
   "source": [
    "# Cargar dataset\n",
    "df = pd.read_csv(\"../data/interim/df_1.csv\")"
   ]
  },
  {
   "cell_type": "code",
   "execution_count": 12,
   "id": "768b020b-2bb2-4ec0-86e6-195d3fd02810",
   "metadata": {},
   "outputs": [],
   "source": [
    "df.columns = df.columns.str.replace(r'\\.x$', '', regex=True)"
   ]
  },
  {
   "cell_type": "markdown",
   "id": "ea26975a-b296-4ab2-89fd-8816f374589b",
   "metadata": {},
   "source": [
    "## Valores nulos e imputación"
   ]
  },
  {
   "cell_type": "code",
   "execution_count": 14,
   "id": "c1268b8e-d8ce-460f-9fc1-9b79a11ee784",
   "metadata": {},
   "outputs": [
    {
     "name": "stdout",
     "output_type": "stream",
     "text": [
      "Valores nulos por columna:\n",
      "Unnamed: 0                         0\n",
      "user_id                            0\n",
      "age                                0\n",
      "income_range                       0\n",
      "risk_profile                       0\n",
      "occupation                         0\n",
      "age_range_sturges                  0\n",
      "primer_producto                    0\n",
      "fecha_primer_producto              0\n",
      "segundo_producto                  45\n",
      "fecha_segundo_producto            45\n",
      "dias_entre_productos              45\n",
      "antiguedad_cliente                 0\n",
      "checking_account                   0\n",
      "savings_account                    0\n",
      "credit_card                        0\n",
      "insurance                          0\n",
      "investment                         0\n",
      "numero_productos                   0\n",
      "combinacion_productos              0\n",
      "entertainment_count                0\n",
      "food_count                         0\n",
      "health_count                       0\n",
      "shopping_count                     0\n",
      "supermarket_count                  0\n",
      "transport_count                    0\n",
      "travel_count                       0\n",
      "total_transacciones                0\n",
      "monto_promedio_transaccion         0\n",
      "mes_mas_compras                    0\n",
      "mes_mayor_monto                    0\n",
      "monto_promedio_mensual             0\n",
      "transacciones_promedio_mensual     0\n",
      "variacion_mensual_promedio         0\n",
      "variacion_mensual_promedio_pct     0\n",
      "total_spend                        0\n",
      "n_meses_activos                    0\n",
      "recencia_transaccion               0\n",
      "categoria_favorita_monto           0\n",
      "total_spend_fav                    0\n",
      "share_fav                          0\n",
      "hhi                                0\n",
      "dtype: int64\n"
     ]
    }
   ],
   "source": [
    "# Revisión general de nulos\n",
    "print(\"Valores nulos por columna:\")\n",
    "print(df.isnull().sum())"
   ]
  },
  {
   "cell_type": "markdown",
   "id": "17787076-47ae-411a-b9ee-aa8a36bd0ac7",
   "metadata": {},
   "source": [
    "### Se puede observar que segundo producto, fecha de contratación del segundo producto y dias entre la contratación del primero y segundo producto tienen 45 NA. Esto se debe al calculo que se hizo para obtenr los dias entre la contratación de uno y otro producto. Se va a "
   ]
  },
  {
   "cell_type": "code",
   "execution_count": 15,
   "id": "f23b8af6-b2f1-44e2-b815-b616478f41d3",
   "metadata": {},
   "outputs": [
    {
     "name": "stdout",
     "output_type": "stream",
     "text": [
      "Columnas con valores nulos:\n",
      "segundo_producto          45\n",
      "fecha_segundo_producto    45\n",
      "dias_entre_productos      45\n",
      "dtype: int64\n",
      "\n",
      "\n",
      "--- segundo_producto ---\n",
      "Valores más frecuentes:\n",
      "segundo_producto\n",
      "credit_card         21\n",
      "insurance           12\n",
      "savings_account     11\n",
      "investment           7\n",
      "checking_account     4\n",
      "Name: count, dtype: int64\n",
      "Cantidad de valores únicos: 5\n",
      "\n",
      "\n",
      "--- fecha_segundo_producto ---\n",
      "Valores más frecuentes:\n",
      "fecha_segundo_producto\n",
      "2022-12-01    3\n",
      "2021-07-08    2\n",
      "2021-10-16    1\n",
      "2021-09-10    1\n",
      "2022-11-28    1\n",
      "Name: count, dtype: int64\n",
      "Cantidad de valores únicos: 52\n",
      "\n",
      "\n",
      "--- dias_entre_productos ---\n",
      "Estadísticas básicas:\n",
      "count     55.00\n",
      "mean     340.22\n",
      "std      221.07\n",
      "min       30.00\n",
      "25%      127.00\n",
      "50%      346.00\n",
      "75%      509.00\n",
      "max      839.00\n",
      "Name: dias_entre_productos, dtype: float64\n",
      "Cantidad de valores únicos: 54\n",
      "\n",
      "\n"
     ]
    }
   ],
   "source": [
    "columnas_con_nulos = df.columns[df.isnull().any()].tolist()\n",
    "print(\"Columnas con valores nulos:\")\n",
    "print(df[columnas_con_nulos].isnull().sum())\n",
    "print(\"\\n\")\n",
    "\n",
    "# Análisis rápido de cada variable con nulos\n",
    "for columna in columnas_con_nulos:\n",
    "    print(f\"--- {columna} ---\")\n",
    "    \n",
    "    # Para variables numéricas\n",
    "    if df[columna].dtype.kind in 'ifc':\n",
    "        print(\"Estadísticas básicas:\")\n",
    "        print(df[columna].describe().round(2))\n",
    "        \n",
    "    # Para variables categóricas\n",
    "    else:\n",
    "        print(\"Valores más frecuentes:\")\n",
    "        print(df[columna].value_counts().head())\n",
    "        \n",
    "    print(f\"Cantidad de valores únicos: {df[columna].nunique()}\")\n",
    "    print(\"\\n\")\n",
    "    "
   ]
  },
  {
   "cell_type": "markdown",
   "id": "98dbd785-d667-4e44-86fc-77eb5bfcc577",
   "metadata": {},
   "source": [
    "### Se observa que las variables son categorica, fecha y númerica. Por lo que se va a imputar con una un \"none\", una fecha dummy y un 0 respectivamente. Algo relevante mencionar es que el segndo producto más contratado es la tarjeta de crédito con 21 contrataciones. También se puede ver que la media para contratar otro producto es de 340 días y el minimo es de 30 días."
   ]
  },
  {
   "cell_type": "code",
   "execution_count": 16,
   "id": "96a88157-353b-493b-9d16-6e3a0c99f043",
   "metadata": {},
   "outputs": [],
   "source": [
    "# Sustituir valores nulos en columnas relacionadas con la segunda contratación\n",
    "df['segundo_producto'] = df['segundo_producto'].fillna('none')\n",
    "df['fecha_segundo_producto'] = df['fecha_segundo_producto'].fillna('1900-01-01')  # Fecha dummy como marcador\n",
    "df['dias_entre_productos'] = df['dias_entre_productos'].fillna(0)"
   ]
  },
  {
   "cell_type": "code",
   "execution_count": 17,
   "id": "bd4c8c9e-50ab-44fe-818e-cd44e24d7f48",
   "metadata": {},
   "outputs": [
    {
     "name": "stdout",
     "output_type": "stream",
     "text": [
      "Verificación de nulos después de imputación:\n",
      "segundo_producto          0\n",
      "fecha_segundo_producto    0\n",
      "dias_entre_productos      0\n",
      "dtype: int64\n",
      "\n",
      "Distribución de 'segundo_producto':\n",
      "segundo_producto\n",
      "none               45\n",
      "credit_card        21\n",
      "insurance          12\n",
      "savings_account    11\n",
      "investment          7\n",
      "Name: count, dtype: int64\n",
      "\n",
      "Distribución de 'fecha_segundo_producto':\n",
      "fecha_segundo_producto\n",
      "1900-01-01    45\n",
      "2022-12-01     3\n",
      "2021-07-08     2\n",
      "2021-09-10     1\n",
      "2022-11-28     1\n",
      "Name: count, dtype: int64\n",
      "\n",
      "Estadísticas de 'dias_entre_productos':\n",
      "count    100.00\n",
      "mean     187.12\n",
      "std      235.78\n",
      "min        0.00\n",
      "25%        0.00\n",
      "50%       48.50\n",
      "75%      368.25\n",
      "max      839.00\n",
      "Name: dias_entre_productos, dtype: float64\n",
      "\n",
      "Registros con 'segundo_producto' = 'none': 45\n",
      "Registros con 'fecha_segundo_producto' = '1900-01-01': 45\n",
      "Registros con 'dias_entre_productos' = 0: 45\n"
     ]
    }
   ],
   "source": [
    "# Verificar que ya no hay valores nulos en estas columnas\n",
    "print(\"Verificación de nulos después de imputación:\")\n",
    "print(df[['segundo_producto', 'fecha_segundo_producto', 'dias_entre_productos']].isnull().sum())\n",
    "\n",
    "# Ver distribución actualizada\n",
    "print(\"\\nDistribución de 'segundo_producto':\")\n",
    "print(df['segundo_producto'].value_counts(dropna=False).head())\n",
    "\n",
    "print(\"\\nDistribución de 'fecha_segundo_producto':\")\n",
    "print(df['fecha_segundo_producto'].value_counts(dropna=False).head())\n",
    "\n",
    "print(\"\\nEstadísticas de 'dias_entre_productos':\")\n",
    "print(df['dias_entre_productos'].describe().round(2))\n",
    "\n",
    "# Verificar cuántos registros tienen los valores imputados\n",
    "print(f\"\\nRegistros con 'segundo_producto' = 'none': {(df['segundo_producto'] == 'none').sum()}\")\n",
    "print(f\"Registros con 'fecha_segundo_producto' = '1900-01-01': {(df['fecha_segundo_producto'] == '1900-01-01').sum()}\")\n",
    "print(f\"Registros con 'dias_entre_productos' = 0: {(df['dias_entre_productos'] == 0).sum()}\")"
   ]
  },
  {
   "cell_type": "code",
   "execution_count": 18,
   "id": "02c3c576-b508-4db6-bb0c-ea1effcdf52e",
   "metadata": {},
   "outputs": [
    {
     "name": "stdout",
     "output_type": "stream",
     "text": [
      "Valores nulos después de imputación:\n",
      "segundo_producto          0\n",
      "fecha_segundo_producto    0\n",
      "dias_entre_productos      0\n",
      "dtype: int64\n"
     ]
    }
   ],
   "source": [
    "print(\"Valores nulos después de imputación:\")\n",
    "print(df[['segundo_producto', 'fecha_segundo_producto', 'dias_entre_productos']].isnull().sum())"
   ]
  },
  {
   "cell_type": "markdown",
   "id": "d348290b-e057-4222-bbf4-f157b4362818",
   "metadata": {},
   "source": [
    "## Outliers"
   ]
  },
  {
   "cell_type": "code",
   "execution_count": 19,
   "id": "fe4d9ac9-cd08-4787-b662-609fabce371e",
   "metadata": {},
   "outputs": [
    {
     "name": "stdout",
     "output_type": "stream",
     "text": [
      "\n",
      "Estadísticas de columnas numéricas continuas para detectar posibles outliers:\n",
      "              age  dias_entre_productos  antiguedad_cliente  \\\n",
      "count  100.000000             100.00000          100.000000   \n",
      "mean    43.390000             187.12000          999.410000   \n",
      "std     15.283777             235.78334          254.623076   \n",
      "min     18.000000               0.00000          379.000000   \n",
      "25%     30.000000               0.00000          809.750000   \n",
      "50%     45.000000              48.50000          997.000000   \n",
      "75%     55.250000             368.25000         1194.750000   \n",
      "max     70.000000             839.00000         1455.000000   \n",
      "\n",
      "       total_transacciones  monto_promedio_transaccion  \\\n",
      "count           100.000000                  100.000000   \n",
      "mean             10.000000                  152.458756   \n",
      "std               3.038474                   78.841581   \n",
      "min               4.000000                   44.616000   \n",
      "25%               8.000000                   97.784042   \n",
      "50%              10.000000                  122.274000   \n",
      "75%              12.000000                  201.090214   \n",
      "max              19.000000                  505.753000   \n",
      "\n",
      "       monto_promedio_mensual  transacciones_promedio_mensual  \\\n",
      "count              100.000000                      100.000000   \n",
      "mean               223.435979                        1.472071   \n",
      "std                116.337507                        0.266729   \n",
      "min                 44.616000                        1.000000   \n",
      "25%                140.565938                        1.285714   \n",
      "50%                185.280833                        1.428571   \n",
      "75%                301.697667                        1.666667   \n",
      "max                561.947778                        2.166667   \n",
      "\n",
      "       variacion_mensual_promedio  variacion_mensual_promedio_pct  \\\n",
      "count                  100.000000                      100.000000   \n",
      "mean                     2.651585                        2.006664   \n",
      "std                     88.096020                        3.132783   \n",
      "min                   -356.342000                       -0.455813   \n",
      "25%                    -17.981607                        0.437560   \n",
      "50%                     -1.742714                        1.168311   \n",
      "75%                     19.838750                        2.314344   \n",
      "max                    306.448333                       23.000874   \n",
      "\n",
      "       total_spend  recencia_transaccion  total_spend_fav   share_fav  \\\n",
      "count   100.000000            100.000000       100.000000  100.000000   \n",
      "mean   1527.239400             33.740000       796.849900    0.480673   \n",
      "std     910.300922             32.889967       675.501467    0.132228   \n",
      "min     223.080000              1.000000       117.210000    0.250117   \n",
      "25%     920.452500              9.000000       347.185000    0.393046   \n",
      "50%    1208.955000             21.000000       511.435000    0.454845   \n",
      "75%    1938.892500             49.000000      1097.370000    0.553866   \n",
      "max    5057.530000            127.000000      4175.240000    0.858385   \n",
      "\n",
      "              hhi  \n",
      "count  100.000000  \n",
      "mean     0.350607  \n",
      "std      0.108435  \n",
      "min      0.200218  \n",
      "25%      0.281753  \n",
      "50%      0.328716  \n",
      "75%      0.384932  \n",
      "max      0.745625  \n"
     ]
    }
   ],
   "source": [
    "# Revisión de outliers en columnas numéricas\n",
    "numerical_cols = df.select_dtypes(include='number').columns\n",
    "\n",
    "numerical_continuas = [\n",
    "    col for col in numerical_cols\n",
    "    if df[col].nunique() > 10 and not col.startswith(\"Unnamed\")\n",
    "]\n",
    "\n",
    "print(\"\\nEstadísticas de columnas numéricas continuas para detectar posibles outliers:\")\n",
    "print(df[numerical_continuas].describe())"
   ]
  },
  {
   "cell_type": "code",
   "execution_count": 20,
   "id": "ed75861a-0cf4-4066-a20b-ab8246ab2780",
   "metadata": {},
   "outputs": [
    {
     "data": {
      "image/png": "[encoded data removed]",
      "text/plain": [
       "<Figure size 1600x800 with 1 Axes>"
      ]
     },
     "metadata": {},
     "output_type": "display_data"
    }
   ],
   "source": [
    "numerical_cols = df.select_dtypes(include='number').columns\n",
    "\n",
    "numerical_continuas = [\n",
    "    col for col in numerical_cols\n",
    "    if df[col].nunique() > 10 and not col.startswith(\"Unnamed\")\n",
    "]\n",
    "\n",
    "plt.figure(figsize=(16, 8))\n",
    "df[numerical_continuas].boxplot(rot=90)\n",
    "plt.title(\"Revisión visual de outliers en variables numéricas continuas\")\n",
    "plt.tight_layout()\n",
    "plt.show()\n"
   ]
  },
  {
   "cell_type": "markdown",
   "id": "86b76666-ba78-443a-8705-b3fdc4c9a082",
   "metadata": {},
   "source": [
    "#### Tratamiento de variables con outliers\n",
    "Durante el análisis exploratorio se identificaron variables con valores atípicos significativos.\n",
    "A continuación se detallan las acciones recomendadas para cada una:\n",
    "1. total_spend_fav\n",
    "Observación: Valores máximos superiores a 4,000, media cercana a 800.\n",
    "Acción recomendada: Aplicar transformación logarítmica (np.log1p) para reducir la varianza y el impacto de valores extremos.\n",
    "2. variacion_mensual_promedio\n",
    "Observación: Rango amplio desde -356 hasta 306, con una media cercana a 2.6.\n",
    "Acción recomendada: Aplicar winsorización entre los percentiles 1 y 99 para limitar la influencia de outliers sin eliminar información útil.\n",
    "3. variacion_mensual_promedio_pct\n",
    "Observación: Valores típicos entre 0 y 5, pero máximos de hasta 23.\n",
    "Acción recomendada: Recortar al percentil 95 o aplicar log1p para suavizar su impacto.\n",
    "4. recencia_transaccion\n",
    "Observación: Valor máximo de 127 días, con la mayoría de los registros muy por debajo.\n",
    "Acción recomendada: Estandarizar o agrupar por rangos (e.g., 0–30, 31–60, 61–90, +90) si se utiliza en modelos lineales.\n",
    "\n",
    "Estas transformaciones mejorarán la estabilidad del modelo y reducirán el sesgo causado por valores extremos.\n",
    "\n",
    "Aplicación a cada modelo:\n",
    "\n",
    "Para Logistic Regression (modelo sensible a escala y outliers):\n",
    "\t•\t✔️ Escala todas las numéricas continuas relevantes después de transformarlas.\n",
    "\t•\t✔️ Aplica:\n",
    "\t•\tlog1p() a total_spend_fav y variacion_mensual_promedio_pct\n",
    "\t•\tWinsoriza variacion_mensual_promedio\n",
    "\t•\tEstandariza o categoriza recencia_transaccion\n",
    "\t•\t❌ No escales binarias ni variables ya transformadas en dummies.\n",
    "\n",
    "Para Random Forest:\n",
    "\t•\t❌ No escales nada.\n",
    "\t•\t✔️ Codifica las categóricas con LabelEncoder.\n",
    "\t•\t🟡 Solo transforma (log1p() o winsoriza) si los outliers son muy dominantes.\n",
    "\t•\tEn tu caso podrías aplicar log1p() a total_spend_fav y dejar lo demás tal cual.\n",
    "\n",
    "Para XGBoost:\n",
    "\t•\t🟡 No es obligatorio escalar, pero:\n",
    "\t•\t✔️ log1p() a total_spend_fav y variacion_mensual_promedio_pct\n",
    "\t•\t✔️ Winsoriza variacion_mensual_promedio\n",
    "\t•\t🟡 Estandariza recencia_transaccion si otras variables ya están escaladas\n",
    "\t•\tEsto mejora la estabilidad del gradiente y la convergencia del modelo."
   ]
  },
  {
   "cell_type": "code",
   "execution_count": 21,
   "id": "9325db33-bba8-4a8f-9879-e0f12bacc018",
   "metadata": {},
   "outputs": [],
   "source": [
    "# Guardar dataset con variables generales\n",
    "df.to_csv(\"../data/interim/df_clean_features.csv\", index=False)"
   ]
  },
  {
   "cell_type": "code",
   "execution_count": null,
   "id": "767e61b0-9499-42de-bb4e-9a904d5a94c7",
   "metadata": {},
   "outputs": [],
   "source": []
  },
  {
   "cell_type": "code",
   "execution_count": null,
   "id": "de2bff7e-ea1d-4553-8b24-443997f54252",
   "metadata": {},
   "outputs": [],
   "source": []
  }
 ],
 "metadata": {
  "kernelspec": {
   "display_name": "Python 3 (ipykernel)",
   "language": "python",
   "name": "python3"
  },
  "language_info": {
   "codemirror_mode": {
    "name": "ipython",
    "version": 3
   },
   "file_extension": ".py",
   "mimetype": "text/x-python",
   "name": "python",
   "nbconvert_exporter": "python",
   "pygments_lexer": "ipython3",
   "version": "3.13.3"
  }
 },
 "nbformat": 4,
 "nbformat_minor": 5
}
